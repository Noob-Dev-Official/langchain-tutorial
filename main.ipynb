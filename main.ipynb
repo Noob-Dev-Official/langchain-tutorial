{
 "cells": [
  {
   "cell_type": "code",
   "execution_count": 4,
   "id": "42018094-f70d-406b-8fb1-eb5697942064",
   "metadata": {},
   "outputs": [
    {
     "name": "stderr",
     "output_type": "stream",
     "text": [
      "/Users/alhudam/Desktop/projects/llm-tutorial/venv/lib/python3.9/site-packages/urllib3/__init__.py:34: NotOpenSSLWarning: urllib3 v2.0 only supports OpenSSL 1.1.1+, currently the 'ssl' module is compiled with 'LibreSSL 2.8.3'. See: https://github.com/urllib3/urllib3/issues/3020\n",
      "  warnings.warn(\n"
     ]
    }
   ],
   "source": [
    "import os\n",
    "\n",
    "import openai\n",
    "from dotenv import load_dotenv, find_dotenv"
   ]
  },
  {
   "cell_type": "code",
   "execution_count": 5,
   "id": "d820204e-a92d-4ac6-86d3-10308c4d60a5",
   "metadata": {},
   "outputs": [],
   "source": [
    "_ = load_dotenv(find_dotenv())\n",
    "openai.api_key = os.environ['OPENAI_API_KEY']"
   ]
  },
  {
   "cell_type": "code",
   "execution_count": 6,
   "id": "57217eea-f2bf-4d8c-b682-b59bfe9010dd",
   "metadata": {},
   "outputs": [],
   "source": [
    "def get_completion(prompt, model=\"gpt-3.5-turbo\"):\n",
    "   messages = [{'role': 'user', 'content': prompt}]\n",
    "\n",
    "   response = openai.ChatCompletion.create(\n",
    "      model=model,\n",
    "      messages=messages,\n",
    "      temperature=0\n",
    "   )\n",
    "\n",
    "   return response.choices[0].message['content']"
   ]
  },
  {
   "cell_type": "code",
   "execution_count": 7,
   "id": "14d5a471-0dbe-4ea2-b35d-bc29e73ac34d",
   "metadata": {},
   "outputs": [
    {
     "name": "stdout",
     "output_type": "stream",
     "text": [
      "1 + 1 equals 2.\n"
     ]
    }
   ],
   "source": [
    "print(get_completion(prompt='what is 1+1'))"
   ]
  },
  {
   "cell_type": "code",
   "execution_count": null,
   "id": "367e70ef-2352-41ed-9db1-52b95712243a",
   "metadata": {},
   "outputs": [],
   "source": []
  },
  {
   "cell_type": "code",
   "execution_count": null,
   "id": "2d3a7a28-94c9-46a8-9562-65ac7931dc08",
   "metadata": {},
   "outputs": [],
   "source": [
    "from langchain.chat_models import ChatOpenAI"
   ]
  },
  {
   "cell_type": "code",
   "execution_count": 79,
   "id": "b9a46e68-05b3-4f6b-94a2-d22c4f36b1ea",
   "metadata": {},
   "outputs": [],
   "source": [
    "chat = ChatOpenAI(temperature=0.0)\n"
   ]
  },
  {
   "cell_type": "code",
   "execution_count": 11,
   "id": "73e8f76b-7281-47be-b7d2-576c6f6432e5",
   "metadata": {},
   "outputs": [],
   "source": [
    "template_string = \"\"\"Translate the text \\\n",
    "that is delimited by triple backticks \\ \n",
    "into a style that is {style}. \\\n",
    "text: ```{text}```\n",
    "\"\"\""
   ]
  },
  {
   "cell_type": "code",
   "execution_count": 12,
   "id": "b845c41e-d404-4141-99bc-2ad7e029bc4f",
   "metadata": {},
   "outputs": [],
   "source": [
    "from langchain.prompts import ChatPromptTemplate\n",
    "\n",
    "prompt_template = ChatPromptTemplate.from_template(template_string)"
   ]
  },
  {
   "cell_type": "code",
   "execution_count": 13,
   "id": "bb74bb85-f945-431a-a18a-6caf59473e91",
   "metadata": {},
   "outputs": [
    {
     "data": {
      "text/plain": [
       "PromptTemplate(input_variables=['style', 'text'], output_parser=None, partial_variables={}, template='Translate the text that is delimited by triple backticks \\\\ \\ninto a style that is {style}. text: ```{text}```\\n', template_format='f-string', validate_template=True)"
      ]
     },
     "execution_count": 13,
     "metadata": {},
     "output_type": "execute_result"
    }
   ],
   "source": [
    "prompt_template.messages[0].prompt"
   ]
  },
  {
   "cell_type": "code",
   "execution_count": 14,
   "id": "b0a5a2c4-1efb-472c-9566-4ca393d3e03f",
   "metadata": {},
   "outputs": [
    {
     "data": {
      "text/plain": [
       "['style', 'text']"
      ]
     },
     "execution_count": 14,
     "metadata": {},
     "output_type": "execute_result"
    }
   ],
   "source": [
    "prompt_template.messages[0].prompt.input_variables"
   ]
  },
  {
   "cell_type": "code",
   "execution_count": 15,
   "id": "fc6661cb-76cd-41ca-abe4-be1c6c4261d0",
   "metadata": {},
   "outputs": [],
   "source": [
    "customer_style = \"\"\"American English \\\n",
    "in a calm and respectful tone\n",
    "\"\"\""
   ]
  },
  {
   "cell_type": "code",
   "execution_count": 16,
   "id": "82d28453-eac5-4409-8112-81135323ff2f",
   "metadata": {},
   "outputs": [],
   "source": [
    "customer_email = \"\"\"\n",
    "Arrr, I be fuming that me blender lid \\\n",
    "flew off and splattered me kitchen walls \\\n",
    "with smoothie! And to matters worse, \\\n",
    "the warranty don't cover the cost of \\\n",
    "cleaning up me kitchen. I need your help \\ \n",
    "right now, matey!\n",
    "\"\"\""
   ]
  },
  {
   "cell_type": "code",
   "execution_count": 17,
   "id": "b293a65d-7f36-4e0a-89e3-a650e28cf0a0",
   "metadata": {},
   "outputs": [],
   "source": [
    "customer_messages = prompt_template.format_messages(style=customer_style, text=customer_email)"
   ]
  },
  {
   "cell_type": "code",
   "execution_count": 18,
   "id": "42301b3f-73e3-4cc2-900e-06fc4061ffe1",
   "metadata": {},
   "outputs": [
    {
     "name": "stdout",
     "output_type": "stream",
     "text": [
      "[HumanMessage(content=\"Translate the text that is delimited by triple backticks \\\\ \\ninto a style that is American English in a calm and respectful tone\\n. text: ```\\nArrr, I be fuming that me blender lid flew off and splattered me kitchen walls with smoothie! And to matters worse, the warranty don't cover the cost of cleaning up me kitchen. I need your help \\\\ \\nright now, matey!\\n```\\n\", additional_kwargs={}, example=False)]\n"
     ]
    }
   ],
   "source": [
    "print(customer_messages)"
   ]
  },
  {
   "cell_type": "code",
   "execution_count": 19,
   "id": "a087db9e-4ea5-4a29-8e2f-7fc83d8458de",
   "metadata": {},
   "outputs": [],
   "source": [
    "customer_response = chat(customer_messages)"
   ]
  },
  {
   "cell_type": "code",
   "execution_count": 20,
   "id": "199fa394-6809-4843-800e-f8a62b9ce80a",
   "metadata": {},
   "outputs": [
    {
     "name": "stdout",
     "output_type": "stream",
     "text": [
      "content=\"I'm really frustrated that my blender lid flew off and made a mess of my kitchen walls with smoothie! And to make matters worse, the warranty doesn't cover the cost of cleaning up my kitchen. I could really use your help right now, my friend!\" additional_kwargs={} example=False\n"
     ]
    }
   ],
   "source": [
    "print(customer_response)"
   ]
  },
  {
   "cell_type": "code",
   "execution_count": 21,
   "id": "c98afaa3-4929-4785-b3b3-0cd3fc75e81a",
   "metadata": {},
   "outputs": [],
   "source": [
    "service_reply = \"\"\"Hey there customer, \\ \n",
    "the warranty does not cover \\\n",
    "cleaning expenses for your kitchen \\\n",
    "because it's your fault that you misused the blender \\\n",
    "by forgetting to put the lid on before \\\n",
    "starting the blender. \\\n",
    "Tough luck! See ya!\n",
    "\"\"\""
   ]
  },
  {
   "cell_type": "code",
   "execution_count": 22,
   "id": "abf0e08e-a631-4159-881f-d44c4b3a54d6",
   "metadata": {},
   "outputs": [],
   "source": [
    "service_style_pirate = \"\"\"\\\n",
    "a polite tone \\\n",
    "that speaks in English pirate\\\n",
    "\"\"\""
   ]
  },
  {
   "cell_type": "code",
   "execution_count": 24,
   "id": "a3ec72ff-461d-4cef-b3c1-41a84386f05c",
   "metadata": {},
   "outputs": [
    {
     "data": {
      "text/plain": [
       "[HumanMessage(content=\"Translate the text that is delimited by triple backticks \\\\ \\ninto a style that is a polite tone that speaks in English pirate. text: ```Hey there customer, \\\\ \\nthe warranty does not cover cleaning expenses for your kitchen because it's your fault that you misused the blender by forgetting to put the lid on before starting the blender. Tough luck! See ya!\\n```\\n\", additional_kwargs={}, example=False)]"
      ]
     },
     "execution_count": 24,
     "metadata": {},
     "output_type": "execute_result"
    }
   ],
   "source": [
    "service_messages = prompt_template.format_messages(style=service_style_pirate, text=service_reply)\n",
    "\n",
    "service_messages"
   ]
  },
  {
   "cell_type": "code",
   "execution_count": 26,
   "id": "12a8451e-3b52-43b0-8468-d8ee79f32e7c",
   "metadata": {},
   "outputs": [
    {
     "name": "stdout",
     "output_type": "stream",
     "text": [
      "content=\"Ahoy there, matey! I be sorry to inform ye, but the warranty be not coverin' the expenses o' cleanin' yer galley, as 'tis yer own fault fer misusin' the blender by forgettin' to put the lid on afore startin' it. Aye, tough luck! Fare thee well, me heartie!\" additional_kwargs={} example=False\n"
     ]
    }
   ],
   "source": [
    "service_response = chat(service_messages)\n",
    "print(service_response)"
   ]
  },
  {
   "cell_type": "code",
   "execution_count": null,
   "id": "7fe50ebc-523e-4655-8c35-3d1e5ffc9c04",
   "metadata": {},
   "outputs": [],
   "source": []
  },
  {
   "cell_type": "code",
   "execution_count": null,
   "id": "5063ffbf-0937-4813-8919-46b3e874d2ab",
   "metadata": {},
   "outputs": [],
   "source": []
  },
  {
   "cell_type": "code",
   "execution_count": null,
   "id": "3f73f4c8-d6cb-4d20-9fe0-ce99fd04fc03",
   "metadata": {},
   "outputs": [],
   "source": []
  },
  {
   "cell_type": "code",
   "execution_count": null,
   "id": "a96bcae7-4284-4fd8-b6a6-c7479d50937d",
   "metadata": {},
   "outputs": [],
   "source": []
  },
  {
   "cell_type": "code",
   "execution_count": null,
   "id": "cab3337d-c425-4f61-a497-f0ea94d25b92",
   "metadata": {},
   "outputs": [],
   "source": []
  },
  {
   "cell_type": "code",
   "execution_count": 28,
   "id": "1818d935-b484-48ce-8482-d00e3be5d4ea",
   "metadata": {},
   "outputs": [
    {
     "data": {
      "text/plain": [
       "{'gift': False, 'delivery_days': 5, 'price_value': 'pretty affordable'}"
      ]
     },
     "execution_count": 28,
     "metadata": {},
     "output_type": "execute_result"
    }
   ],
   "source": [
    "{\n",
    "    \"gift\": False,\n",
    "    \"delivery_days\": 5,\n",
    "    \"price_value\": \"pretty affordable\"\n",
    "}"
   ]
  },
  {
   "cell_type": "code",
   "execution_count": 38,
   "id": "c3fef8cd-4271-4b45-b91c-8828ec0838e0",
   "metadata": {},
   "outputs": [],
   "source": [
    "customer_review = \"\"\"\\\n",
    "This leaf blower is pretty amazing. It has four settings:\\\n",
    "candle blower, gentle breeze, windy city, and tornado.\\\n",
    "It arrived in two days, just in time for my wife's \\\n",
    "anniversary present. \\\n",
    "I think my wife liked it so much she was speechless. \\\n",
    "So far I've been the only one using it, and I've been \\\n",
    "using it every other morning to clear the leaves on our lawn. \\\n",
    "It's slightly more expensive than the other leaf blowers \\\n",
    "out there, but I think it's worth it for the extra features.\n",
    "\"\"\""
   ]
  },
  {
   "cell_type": "code",
   "execution_count": 57,
   "id": "a13e470d-28b5-4646-8a7e-ee8649391155",
   "metadata": {},
   "outputs": [],
   "source": [
    "review_template = \"\"\"\n",
    "For the following text, extract the following information: \\\n",
    "gift: Was the item purchased as a gift/present for someone else? Answer true if its a yes or false if its a no \\\n",
    "delivery_days: How many days did it take for the product to deliver? Answer in number \\\n",
    "price_value: Extract any sentences about the value or price, keep it short \\\n",
    "\n",
    "Format the output as JSON with the following keys:\n",
    "gift\n",
    "delivery_days\n",
    "price_value\n",
    "\n",
    "text: {text}\n",
    "\"\"\""
   ]
  },
  {
   "cell_type": "code",
   "execution_count": 58,
   "id": "eaebc93a-b0bd-4dd1-905a-6345dd04e478",
   "metadata": {},
   "outputs": [],
   "source": [
    "from langchain.prompts import ChatPromptTemplate\n",
    "\n",
    "prompt_template = ChatPromptTemplate.from_template(review_template)"
   ]
  },
  {
   "cell_type": "code",
   "execution_count": 59,
   "id": "d66b3ecb-9bff-45db-9520-7040d6d4d243",
   "metadata": {},
   "outputs": [
    {
     "name": "stdout",
     "output_type": "stream",
     "text": [
      "input_variables=['text'] output_parser=None partial_variables={} messages=[HumanMessagePromptTemplate(prompt=PromptTemplate(input_variables=['text'], output_parser=None, partial_variables={}, template='\\nFor the following text, extract the following information: gift: Was the item purchased as a gift/present for someone else? Answer true if its a yes or false if its a no delivery_days: How many days did it take for the product to deliver? Answer in number price_value: Extract any sentences about the value or price, keep it short \\nFormat the output as JSON with the following keys:\\ngift\\ndelivery_days\\nprice_value\\n\\ntext: {text}\\n', template_format='f-string', validate_template=True), additional_kwargs={})]\n"
     ]
    }
   ],
   "source": [
    "print(prompt_template)"
   ]
  },
  {
   "cell_type": "code",
   "execution_count": 60,
   "id": "bcd9d3ec-8001-43a5-8089-567e3b1cf0d0",
   "metadata": {},
   "outputs": [
    {
     "name": "stdout",
     "output_type": "stream",
     "text": [
      "{\n",
      "  \"gift\": true,\n",
      "  \"delivery_days\": 2,\n",
      "  \"price_value\": \"It's slightly more expensive than the other leaf blowers out there\"\n",
      "}\n"
     ]
    }
   ],
   "source": [
    "messages = prompt_template.format_messages(style=customer_style, text=customer_review)\n",
    "chat = ChatOpenAI(temperature=0.0)\n",
    "response = chat(messages)\n",
    "print(response.content)"
   ]
  },
  {
   "cell_type": "code",
   "execution_count": 70,
   "id": "cf2067a2-5786-40ba-a32c-b6c1ab3fe16a",
   "metadata": {},
   "outputs": [],
   "source": [
    "from langchain.output_parsers import ResponseSchema, StructuredOutputParser, PydanticOutputParser"
   ]
  },
  {
   "cell_type": "code",
   "execution_count": 73,
   "id": "0c07aa15-03be-42b1-b4b0-00435bbfcdf2",
   "metadata": {},
   "outputs": [],
   "source": [
    "gift_schema = ResponseSchema(name=\"gift\", description=\"Was the item purchased as a gift/present for someone else? Answer true if its a yes, False if not or unknown\")\n",
    "delivery_days_schema =  ResponseSchema(name=\"delivery_days\", description=\"How many days did it take for the product to deliver? Answer in number\")\n",
    "price_value_schema =  ResponseSchema(name=\"price_value\", description=\"Extract any sentences about the value or price, keep it short\")\n",
    "\n",
    "response_schemas = [gift_schema, delivery_days_schema, price_value_schema]\n",
    "\n",
    "# output_parser = PydanticOutputParser(schema=response_schemas)"
   ]
  },
  {
   "cell_type": "code",
   "execution_count": 66,
   "id": "e44f8d01-22b3-4503-b404-3e4b12afb67f",
   "metadata": {},
   "outputs": [
    {
     "ename": "NameError",
     "evalue": "name 'output_parser' is not defined",
     "output_type": "error",
     "traceback": [
      "\u001b[0;31m---------------------------------------------------------------------------\u001b[0m",
      "\u001b[0;31mNameError\u001b[0m                                 Traceback (most recent call last)",
      "Cell \u001b[0;32mIn[66], line 1\u001b[0m\n\u001b[0;32m----> 1\u001b[0m format_instructions \u001b[38;5;241m=\u001b[39m \u001b[43moutput_parser\u001b[49m\u001b[38;5;241m.\u001b[39mget_format_instructions()\n",
      "\u001b[0;31mNameError\u001b[0m: name 'output_parser' is not defined"
     ]
    }
   ],
   "source": [
    "format_instructions = output_parser.get_format_instructions()"
   ]
  },
  {
   "cell_type": "code",
   "execution_count": null,
   "id": "3a293acf-cbe6-4d2c-80c7-c59ed2f522f8",
   "metadata": {},
   "outputs": [],
   "source": []
  }
 ],
 "metadata": {
  "kernelspec": {
   "display_name": "Python 3 (ipykernel)",
   "language": "python",
   "name": "python3"
  },
  "language_info": {
   "codemirror_mode": {
    "name": "ipython",
    "version": 3
   },
   "file_extension": ".py",
   "mimetype": "text/x-python",
   "name": "python",
   "nbconvert_exporter": "python",
   "pygments_lexer": "ipython3",
   "version": "3.9.6"
  }
 },
 "nbformat": 4,
 "nbformat_minor": 5
}
